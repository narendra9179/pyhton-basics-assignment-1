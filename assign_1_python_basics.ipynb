{
  "nbformat": 4,
  "nbformat_minor": 0,
  "metadata": {
    "colab": {
      "provenance": []
    },
    "kernelspec": {
      "name": "python3",
      "display_name": "Python 3"
    },
    "language_info": {
      "name": "python"
    }
  },
  "cells": [
    {
      "cell_type": "markdown",
      "source": [
        "# Python Basics Assignment\n"
      ],
      "metadata": {
        "id": "j_NHxyANY84-"
      }
    },
    {
      "cell_type": "markdown",
      "source": [
        "Q.1> What is Python, and why is it popular?\n",
        "- Python is a high-level programing lanuage which enable a  \n",
        "  programer/user to give instructions to a machine.Invented in 1991 by Guido Van Rossum.\n",
        "  \n",
        "  why so popolar:-\n",
        "        >Easy to understand: as it's very much like\n",
        "         english language.\n",
        "        >Large pool of library: like nampy, pandas etc\n",
        "        >Large active community\n",
        "        >Versatile: applicable in wide range of industries  \n",
        "         like, programming, data science, bussiness alanysis etc.\n",
        "        \n",
        "        Simplicity and readability makes the python popular among programers.\n",
        "    "
      ],
      "metadata": {
        "id": "-R6htWD7ZCow"
      }
    },
    {
      "cell_type": "markdown",
      "source": [
        "Q.2> What is an interpreter in Python?\n",
        " - Interpreter converts instructions to machine readable form\n",
        "   directly,line by line. Interpreter shows error as it comes, thus helps programmers in debugging and fix the code at runtime."
      ],
      "metadata": {
        "id": "Dvbcxj7EZfAe"
      }
    },
    {
      "cell_type": "markdown",
      "source": [
        "Q.3> What are pre-defined keywords in Python?\n",
        "- Keywords are reserved words with specific meaning and\n",
        "  task in python language. Eg. def - is a keyword to define a function.Print, None etc. are other keywods.Thus they cann't be used as identifiers.\n"
      ],
      "metadata": {
        "id": "5pAOPGqtZT6o"
      }
    },
    {
      "cell_type": "markdown",
      "source": [
        " Q.4> Can keywords be used as variable names?\n",
        " - Variable refer to a location where data is stored in  \n",
        "   memory.It reserves memory space for data.\n",
        "   As keywords has spesific meaning and unique task to perform in a programming language, we cann't use keywords as variables.\n"
      ],
      "metadata": {
        "id": "fB9BvKRZj6UF"
      }
    },
    {
      "cell_type": "markdown",
      "source": [
        " Q.5> What is mutability in Python?\n",
        " - Mutability is to change the state of an object in python\n",
        "   once it is created.If you can change the object once it is created then it is called mutable otherwise it is immutable."
      ],
      "metadata": {
        "id": "DoOeJ7KAk0ef"
      }
    },
    {
      "cell_type": "markdown",
      "source": [
        "Q.6> Why are lists mutable, but tuples are immutable?\n",
        "- The list are mutable because they can be changed once\n",
        "  created while, tuples cann't.\n",
        "  Both are designed to serve different pupose.\n",
        "  If you want data to store where you can access, modify and change the order of it as per you requirement then use list eg. shoping list.And when you want your data to be consistent and protected from accidental modification then you use tuples. eg. keys in dictionary\n"
      ],
      "metadata": {
        "id": "C9xqM9WwmPek"
      }
    },
    {
      "cell_type": "markdown",
      "source": [
        "Q.7> What is the difference between “==” and “is” operators in\n",
        "     Python.\n",
        "- \"==\" in python is part of relational operator whereas\n",
        "   \"is\"\" is part of identity operator. relational operator compares 'content' of the values whereas,\"is\" operator compares the identiy i.e. 'location' of objects eg. a=[\"list1\",tuple1] and b=[\"list1\",tuple1], if we compare a==b it will give 'True'.Whereas, if we comapre it as  \" a is b\" then it will give 'False' even after the content being same. Because, both the valiables have been located at different memory location thus have separate identity.\n"
      ],
      "metadata": {
        "id": "ddKUX4lyqE_7"
      }
    },
    {
      "cell_type": "markdown",
      "source": [
        " Q.8> What are logical operators in Python?\n",
        " - AND, OR, NOT are 3 logical operators used to combine\n",
        "   multiple conditions while writing code, helps in decision making.\n",
        "   Generally used with conditional statements and loops to check multiple conditions in a statement.\n",
        "\n",
        "    AND operator performs logical operation on conditions. If both conditions true it returns true, otherwise false.\n",
        "\n",
        "    OR operator gives true, if any of the statement is true otherwise false.\n",
        "\n",
        "    NOT operator reverse boolean value of the statement.\n",
        "\n",
        "\n",
        "    Thus logical operators helps in writing complex logical expressions and control the flow of the program.    \n",
        "\n",
        "\n",
        "    "
      ],
      "metadata": {
        "id": "VHaANJZdrsE-"
      }
    },
    {
      "cell_type": "markdown",
      "source": [
        "Q.9> What is type casting in Python?\n",
        "-  Type casting in python is used to change the data type by\n",
        "   puting them inside the function of desired data type such as to get integer use int(), to convert to string use str(), similary for float use float(),for list use list(), for tuple use tuple() etc.\n",
        "   \n",
        "   Type casting is generally used where you need to perform operations that require a specific data type.eg. it is of great use when taking user input as input always takes data in string form."
      ],
      "metadata": {
        "id": "YavyC4G7DEAF"
      }
    },
    {
      "cell_type": "markdown",
      "source": [
        " Q.10> What is the difference between implicit and explicit\n",
        "       type casting?\n",
        "-      Type casting is to change one data type to another data\n",
        "       type.Generally type casting is of two types: Implicit and Explicit.\n",
        "\n",
        "       In implicit type casting pyhton automatically converts smaller data type to larger data type when mix data is used in expression.\n",
        "       \n",
        "       Whereas in explicit type casting user/programmer has to provide instruction to convert one data type to desired data type by using in-built function like int() to get intiger.Having knowledge of implicit and explicit type casting helps in writing error-free code>\n"
      ],
      "metadata": {
        "id": "j93C0E_RHWm6"
      }
    },
    {
      "cell_type": "markdown",
      "source": [
        "Q.11> What is the purpose of conditional statements in Python?\n",
        "-     Contional statements like if,elif,else control the fllow\n",
        "      of program based on fulfillment of conditions,making program responsive to different inputs.Thus helps program to take decision.We can also use nested if statment to perform complex decision making."
      ],
      "metadata": {
        "id": "ZUUZX-ZXKCfq"
      }
    },
    {
      "cell_type": "markdown",
      "source": [
        "Q.12> How does the elif statement work?\n",
        "-     In pyhton elif stands for 'else if'. We use elif in\n",
        "      contional statements to check for multiple possibilities, elif is executed when the previous condition is false, as the condition is true the statement is executed and code will stop running then and there, skiping rest of the statement."
      ],
      "metadata": {
        "id": "b7t5Ij8-LVYq"
      }
    },
    {
      "cell_type": "markdown",
      "source": [
        "Q.13> What is the difference between for and while loops?\n",
        "-     Loops are used for exectuing a particular code\n",
        "      repeatedly.There are two types of loops: for and while loop.\n",
        "\n",
        "       for loop : is used to run a code over a sequence of items.\n",
        "\n",
        "       while loop : is used where you want to execute a code repeatedly untill a condition becomes false.\n",
        "\n"
      ],
      "metadata": {
        "id": "swaamGNqNiUS"
      }
    },
    {
      "cell_type": "markdown",
      "source": [
        "Q.14> Describe a scenario where a while loop is more suitable\n",
        "      than a for loop.\n",
        "-     while loop : is used where you want to execute a code\n",
        "      repeatedly untill a condition becomes false.\n",
        "\n",
        "      while loop is suitable where the exact iterable is not\n",
        "      known.\n",
        "\n",
        "      scenario, where a while loop is more suitable:\n",
        "      - Giving a alert message when a bike breaches a\n",
        "        particular speed limit. Here there is no fixed iteration thus using while loop is more suitable.\n",
        "      "
      ],
      "metadata": {
        "id": "_kOukk4xc0L4"
      }
    },
    {
      "cell_type": "markdown",
      "source": [
        "#Below are practicle quesions"
      ],
      "metadata": {
        "id": "qwt8XI7-gt3M"
      }
    },
    {
      "cell_type": "code",
      "source": [
        " # Q.1> Write a Python program to print \"Hello, World!.\n",
        "\n",
        "print(\"Hello, World!\")"
      ],
      "metadata": {
        "colab": {
          "base_uri": "https://localhost:8080/"
        },
        "id": "v_3MT6Aw8Xj0",
        "outputId": "a5a35522-09d1-4472-8410-1275ccfc8ba2"
      },
      "execution_count": null,
      "outputs": [
        {
          "output_type": "stream",
          "name": "stdout",
          "text": [
            "Hello, World!\n"
          ]
        }
      ]
    },
    {
      "cell_type": "code",
      "source": [
        " # Q.2> Write a Python program that displays your name and age.\n",
        "\n",
        " name = \"Narendra singh solanki\"\n",
        " age = 27\n",
        " print(\"name =\",name,\"age =\", age)\n"
      ],
      "metadata": {
        "colab": {
          "base_uri": "https://localhost:8080/"
        },
        "id": "nmQ0S7kTB_vX",
        "outputId": "e4b3470c-e514-4f2b-8c6a-b015e26af424"
      },
      "execution_count": null,
      "outputs": [
        {
          "output_type": "stream",
          "name": "stdout",
          "text": [
            "name = Narendra singh solanki age = 27\n"
          ]
        }
      ]
    },
    {
      "cell_type": "code",
      "source": [
        " #Q.3> Write code to print all the pre-defined keywords in Python using the keyword library.\n",
        "\n",
        "import keyword\n",
        "\n",
        "keyword = keyword.kwlist\n",
        "\n",
        "for words in keyword:\n",
        "    print(words)"
      ],
      "metadata": {
        "colab": {
          "base_uri": "https://localhost:8080/"
        },
        "id": "zsCj6jWhDCYg",
        "outputId": "68b6cdf1-ee06-431a-9103-fe022c409f3c"
      },
      "execution_count": null,
      "outputs": [
        {
          "output_type": "stream",
          "name": "stdout",
          "text": [
            "False\n",
            "None\n",
            "True\n",
            "and\n",
            "as\n",
            "assert\n",
            "async\n",
            "await\n",
            "break\n",
            "class\n",
            "continue\n",
            "def\n",
            "del\n",
            "elif\n",
            "else\n",
            "except\n",
            "finally\n",
            "for\n",
            "from\n",
            "global\n",
            "if\n",
            "import\n",
            "in\n",
            "is\n",
            "lambda\n",
            "nonlocal\n",
            "not\n",
            "or\n",
            "pass\n",
            "raise\n",
            "return\n",
            "try\n",
            "while\n",
            "with\n",
            "yield\n"
          ]
        }
      ]
    },
    {
      "cell_type": "code",
      "source": [
        " # Q.4 Write a program that checks if a given word is a Python keyword.\n",
        "\n",
        "import keyword\n",
        "\n",
        "keyword_list = keyword.kwlist\n",
        "\n",
        "given_word = \"del\"\n",
        "\n",
        "for word in keyword_list:\n",
        "    if given_word==word:\n",
        "        print(given_word, \"is a python keyword\")\n",
        "        break\n",
        " else:\n",
        "    print(given_word,\"is not a pyhton keyword\")"
      ],
      "metadata": {
        "colab": {
          "base_uri": "https://localhost:8080/"
        },
        "id": "_4lUloFFF9C7",
        "outputId": "0ea93d46-4b1a-49cd-ca9a-34146faf59f7"
      },
      "execution_count": null,
      "outputs": [
        {
          "output_type": "stream",
          "name": "stdout",
          "text": [
            "del is a python keyword\n"
          ]
        }
      ]
    },
    {
      "cell_type": "code",
      "source": [
        " # Q.5> Create a list and tuple in Python, and demonstrate how attempting to change an element works differently for each.\n",
        "\n",
        "# creating list and tuple\n",
        "\n",
        "list1 = [1,\"hey\",3.4,True]\n",
        "tuple1 = (1,\"hey\",3.4,True)\n",
        "\n",
        "# changing list, replace hey with hello.\n",
        "\n",
        "list1[1]=\"hello\"\n",
        "print(\"hey is replaced by hello\", list1)\n",
        "\n",
        "tuple1[1]=\"hello\" # tuple is immutable, thus throw error\n",
        "\n",
        "\n"
      ],
      "metadata": {
        "colab": {
          "base_uri": "https://localhost:8080/",
          "height": 237
        },
        "id": "WQGuKmWGJg9n",
        "outputId": "16ecfc56-ce77-4bb3-81f8-87ae175ef5d9"
      },
      "execution_count": null,
      "outputs": [
        {
          "output_type": "stream",
          "name": "stdout",
          "text": [
            "hey is replaced by hello [1, 'hello', 3.4, True]\n"
          ]
        },
        {
          "output_type": "error",
          "ename": "TypeError",
          "evalue": "'tuple' object does not support item assignment",
          "traceback": [
            "\u001b[0;31m---------------------------------------------------------------------------\u001b[0m",
            "\u001b[0;31mTypeError\u001b[0m                                 Traceback (most recent call last)",
            "\u001b[0;32m<ipython-input-40-9bdfe158cafc>\u001b[0m in \u001b[0;36m<cell line: 0>\u001b[0;34m()\u001b[0m\n\u001b[1;32m     11\u001b[0m \u001b[0mprint\u001b[0m\u001b[0;34m(\u001b[0m\u001b[0;34m\"hey is replaced by hello\"\u001b[0m\u001b[0;34m,\u001b[0m \u001b[0mlist1\u001b[0m\u001b[0;34m)\u001b[0m\u001b[0;34m\u001b[0m\u001b[0;34m\u001b[0m\u001b[0m\n\u001b[1;32m     12\u001b[0m \u001b[0;34m\u001b[0m\u001b[0m\n\u001b[0;32m---> 13\u001b[0;31m \u001b[0mtuple1\u001b[0m\u001b[0;34m[\u001b[0m\u001b[0;36m1\u001b[0m\u001b[0;34m]\u001b[0m\u001b[0;34m=\u001b[0m\u001b[0;34m\"hello\"\u001b[0m \u001b[0;31m# tuple is immutable, thus throw error\u001b[0m\u001b[0;34m\u001b[0m\u001b[0;34m\u001b[0m\u001b[0m\n\u001b[0m\u001b[1;32m     14\u001b[0m \u001b[0;34m\u001b[0m\u001b[0m\n\u001b[1;32m     15\u001b[0m \u001b[0;34m\u001b[0m\u001b[0m\n",
            "\u001b[0;31mTypeError\u001b[0m: 'tuple' object does not support item assignment"
          ]
        }
      ]
    },
    {
      "cell_type": "code",
      "source": [
        "# Q.6 > Write a function to demonstrate the behavior of mutable and immutable arguments.\n",
        "\n",
        "list2 = [1,\"hey\",3.4,True]\n",
        "tuple2 = (1,\"hey\",3.4,True)\n",
        "\n",
        "\n",
        "def func(arg):\n",
        "    print(\"original arg:\",list2)\n",
        "    arg[0]=100\n",
        "    return arg\n",
        "\n",
        "print(\"updated arg:\",func(list2))"
      ],
      "metadata": {
        "colab": {
          "base_uri": "https://localhost:8080/"
        },
        "id": "lelIOnwQFQcH",
        "outputId": "96297e3f-2873-41a5-a40d-13df04b88d0d"
      },
      "execution_count": null,
      "outputs": [
        {
          "output_type": "stream",
          "name": "stdout",
          "text": [
            "original arg: [1, 'hey', 3.4, True]\n",
            "updated arg: [100, 'hey', 3.4, True]\n"
          ]
        }
      ]
    },
    {
      "cell_type": "code",
      "source": [
        "func(tuple2) # it will throw error as tuples are immutable."
      ],
      "metadata": {
        "colab": {
          "base_uri": "https://localhost:8080/",
          "height": 291
        },
        "collapsed": true,
        "id": "au7yala6VK52",
        "outputId": "f006b0ee-88e7-443b-f847-5b161470b161"
      },
      "execution_count": null,
      "outputs": [
        {
          "output_type": "stream",
          "name": "stdout",
          "text": [
            "original arg: [100, 'hey', 3.4, True]\n"
          ]
        },
        {
          "output_type": "error",
          "ename": "TypeError",
          "evalue": "'tuple' object does not support item assignment",
          "traceback": [
            "\u001b[0;31m---------------------------------------------------------------------------\u001b[0m",
            "\u001b[0;31mTypeError\u001b[0m                                 Traceback (most recent call last)",
            "\u001b[0;32m<ipython-input-68-481db23eab64>\u001b[0m in \u001b[0;36m<cell line: 0>\u001b[0;34m()\u001b[0m\n\u001b[0;32m----> 1\u001b[0;31m \u001b[0mfunc\u001b[0m\u001b[0;34m(\u001b[0m\u001b[0mtuple2\u001b[0m\u001b[0;34m)\u001b[0m \u001b[0;31m# it will throw error as tuples are immutable.\u001b[0m\u001b[0;34m\u001b[0m\u001b[0;34m\u001b[0m\u001b[0m\n\u001b[0m",
            "\u001b[0;32m<ipython-input-67-6cb34b6139fb>\u001b[0m in \u001b[0;36mfunc\u001b[0;34m(arg)\u001b[0m\n\u001b[1;32m      7\u001b[0m \u001b[0;32mdef\u001b[0m \u001b[0mfunc\u001b[0m\u001b[0;34m(\u001b[0m\u001b[0marg\u001b[0m\u001b[0;34m)\u001b[0m\u001b[0;34m:\u001b[0m\u001b[0;34m\u001b[0m\u001b[0;34m\u001b[0m\u001b[0m\n\u001b[1;32m      8\u001b[0m     \u001b[0mprint\u001b[0m\u001b[0;34m(\u001b[0m\u001b[0;34m\"original arg:\"\u001b[0m\u001b[0;34m,\u001b[0m\u001b[0mlist2\u001b[0m\u001b[0;34m)\u001b[0m\u001b[0;34m\u001b[0m\u001b[0;34m\u001b[0m\u001b[0m\n\u001b[0;32m----> 9\u001b[0;31m     \u001b[0marg\u001b[0m\u001b[0;34m[\u001b[0m\u001b[0;36m0\u001b[0m\u001b[0;34m]\u001b[0m\u001b[0;34m=\u001b[0m\u001b[0;36m100\u001b[0m\u001b[0;34m\u001b[0m\u001b[0;34m\u001b[0m\u001b[0m\n\u001b[0m\u001b[1;32m     10\u001b[0m     \u001b[0;32mreturn\u001b[0m \u001b[0marg\u001b[0m\u001b[0;34m\u001b[0m\u001b[0;34m\u001b[0m\u001b[0m\n\u001b[1;32m     11\u001b[0m \u001b[0;34m\u001b[0m\u001b[0m\n",
            "\u001b[0;31mTypeError\u001b[0m: 'tuple' object does not support item assignment"
          ]
        }
      ]
    },
    {
      "cell_type": "code",
      "source": [
        " # Q.7> Write a function to demonstrate the behavior of mutable and immutable arguments.\n",
        " # see question no.6\n"
      ],
      "metadata": {
        "id": "r-p7AA-BVRsU"
      },
      "execution_count": null,
      "outputs": []
    },
    {
      "cell_type": "code",
      "source": [
        "#Q.8> Write a program to demonstrate the use of logical operators.\n",
        "\n",
        "num1=10\n",
        "num2=20\n",
        "\n",
        "if num1>0 and num2>0:\n",
        "    print(\"Both the numbers are positive integers\")\n",
        "else:\n",
        "    print(\"Both the numbers are not ppositive integers\")"
      ],
      "metadata": {
        "colab": {
          "base_uri": "https://localhost:8080/"
        },
        "id": "KrFdiTCyqocU",
        "outputId": "203f4146-b10e-490c-bef9-bcb00f1114f7"
      },
      "execution_count": null,
      "outputs": [
        {
          "output_type": "stream",
          "name": "stdout",
          "text": [
            "Both the numbers are positive integers\n"
          ]
        }
      ]
    },
    {
      "cell_type": "code",
      "source": [
        "#Q.9> Write a Python program to convert user input from string to integer, float, and boolean types.\n",
        "\n",
        "age = int(input())\n",
        "height = float(input())\n",
        "boolean = bool(input())\n",
        "\n",
        "print(\"age\", type(age),\"height\", type(height),\"boolean\", type(boolean))"
      ],
      "metadata": {
        "colab": {
          "base_uri": "https://localhost:8080/"
        },
        "id": "Og-u3o5lwbQN",
        "outputId": "3d4f8cad-1666-4358-a4cb-bd450b1b3d30"
      },
      "execution_count": null,
      "outputs": [
        {
          "output_type": "stream",
          "name": "stdout",
          "text": [
            "15\n",
            "5.9\n",
            "1\n",
            "age <class 'int'> height <class 'float'> boolean <class 'bool'>\n"
          ]
        }
      ]
    },
    {
      "cell_type": "code",
      "source": [
        "#Q.10> Write code to demonstrate type casting with list elements.\n",
        "\n",
        "list3=[1,\"2\",4.5,True]\n",
        "\n",
        "print(\"original list= \", list3)\n",
        "\n",
        "list3[0]=str(list3[0])  # this will convert element at index[0] to string\n",
        "list3[1]= int(list3[1]) # this will convert element at index[1] to int\n",
        "list3[2]= int(list3[2]) # this will convert element at index[2] to int\n",
        "list3[3]= str(list3[3]) # this will convert element at index[3] to str\n",
        "\n",
        "print(\"same list after performing typecasting= \", list3)\n"
      ],
      "metadata": {
        "colab": {
          "base_uri": "https://localhost:8080/"
        },
        "id": "XMMp3Ui3yTfE",
        "outputId": "72384b10-7b71-4707-be77-cc8368f4ab3d"
      },
      "execution_count": null,
      "outputs": [
        {
          "output_type": "stream",
          "name": "stdout",
          "text": [
            "original list=  [1, '2', 4.5, True]\n",
            "same list after performing typecasting=  ['1', 2, 4, 'True']\n"
          ]
        }
      ]
    },
    {
      "cell_type": "code",
      "source": [
        "#Q.11> Write a program that checks if a number is positive, negative, or zero.\n",
        "\n",
        "numb3=int(input())\n",
        "\n",
        "if numb3>0:\n",
        "    print(\"numb3 is positive number\")\n",
        "elif numb3<0:\n",
        "    print(\"numb3 is negative number\")\n",
        "else:\n",
        "    print(\"numb3 is equal to zero\")"
      ],
      "metadata": {
        "colab": {
          "base_uri": "https://localhost:8080/"
        },
        "id": "-h1a001A0eXf",
        "outputId": "bbe58a47-971f-4c31-d8e5-2a50c9047ab6"
      },
      "execution_count": null,
      "outputs": [
        {
          "output_type": "stream",
          "name": "stdout",
          "text": [
            "0\n",
            "numb3 is equal to zero\n"
          ]
        }
      ]
    },
    {
      "cell_type": "code",
      "source": [
        "#Q.12> Write a for loop to print numbers from 1 to 100.\n",
        "\n",
        "for i in range(1,101):\n",
        "    print(i)"
      ],
      "metadata": {
        "colab": {
          "base_uri": "https://localhost:8080/"
        },
        "collapsed": true,
        "id": "E-wMpFWr1z0V",
        "outputId": "5d6bf455-65d3-45c0-810b-ed46b5fe2dcf"
      },
      "execution_count": null,
      "outputs": [
        {
          "output_type": "stream",
          "name": "stdout",
          "text": [
            "1\n",
            "2\n",
            "3\n",
            "4\n",
            "5\n",
            "6\n",
            "7\n",
            "8\n",
            "9\n",
            "10\n",
            "11\n",
            "12\n",
            "13\n",
            "14\n",
            "15\n",
            "16\n",
            "17\n",
            "18\n",
            "19\n",
            "20\n",
            "21\n",
            "22\n",
            "23\n",
            "24\n",
            "25\n",
            "26\n",
            "27\n",
            "28\n",
            "29\n",
            "30\n",
            "31\n",
            "32\n",
            "33\n",
            "34\n",
            "35\n",
            "36\n",
            "37\n",
            "38\n",
            "39\n",
            "40\n",
            "41\n",
            "42\n",
            "43\n",
            "44\n",
            "45\n",
            "46\n",
            "47\n",
            "48\n",
            "49\n",
            "50\n",
            "51\n",
            "52\n",
            "53\n",
            "54\n",
            "55\n",
            "56\n",
            "57\n",
            "58\n",
            "59\n",
            "60\n",
            "61\n",
            "62\n",
            "63\n",
            "64\n",
            "65\n",
            "66\n",
            "67\n",
            "68\n",
            "69\n",
            "70\n",
            "71\n",
            "72\n",
            "73\n",
            "74\n",
            "75\n",
            "76\n",
            "77\n",
            "78\n",
            "79\n",
            "80\n",
            "81\n",
            "82\n",
            "83\n",
            "84\n",
            "85\n",
            "86\n",
            "87\n",
            "88\n",
            "89\n",
            "90\n",
            "91\n",
            "92\n",
            "93\n",
            "94\n",
            "95\n",
            "96\n",
            "97\n",
            "98\n",
            "99\n",
            "100\n"
          ]
        }
      ]
    },
    {
      "cell_type": "code",
      "source": [
        "#Q.13> Write a Python program to find the sum of all even numbers between 1 and 500.\n",
        "even_sum = 0\n",
        "for i in range(1,501):\n",
        "    if i%2==0:\n",
        "        even_sum+=i\n",
        "print(\"sum = \", even_sum)"
      ],
      "metadata": {
        "colab": {
          "base_uri": "https://localhost:8080/"
        },
        "id": "0OIIDnvK2Qdz",
        "outputId": "35030fc7-5b48-4534-f318-5fb5b163638a"
      },
      "execution_count": null,
      "outputs": [
        {
          "output_type": "stream",
          "name": "stdout",
          "text": [
            "sum =  62750\n"
          ]
        }
      ]
    },
    {
      "cell_type": "code",
      "source": [
        "#Q.14> Write a program to reverse a string using a while loop.\n",
        "\n",
        "string=\"narendra\"\n",
        "i= len(string)\n",
        "\n",
        "while i>0:\n",
        "    print(string[(i-1)], end=\"\")\n",
        "    i-=1\n"
      ],
      "metadata": {
        "colab": {
          "base_uri": "https://localhost:8080/"
        },
        "id": "luqInsuu6Lfo",
        "outputId": "02254fe2-2664-4b88-bcc3-3109e96ce774"
      },
      "execution_count": null,
      "outputs": [
        {
          "output_type": "stream",
          "name": "stdout",
          "text": [
            "ardneran"
          ]
        }
      ]
    },
    {
      "cell_type": "code",
      "source": [
        "#Q.15> Write a Python program to calculate the factorial of a number provided by the user using a while loop.\n",
        "\n",
        "n=int(input(\"please enter number:\"))\n",
        "i=1\n",
        "fact=1\n",
        "\n",
        "while i<=n:\n",
        "    fact*=i\n",
        "    i+=1\n",
        "print(fact)"
      ],
      "metadata": {
        "colab": {
          "base_uri": "https://localhost:8080/"
        },
        "id": "KgspOzTI-xXJ",
        "outputId": "46dd3fcc-6a97-4e2c-ea99-ef2634c97a08"
      },
      "execution_count": null,
      "outputs": [
        {
          "output_type": "stream",
          "name": "stdout",
          "text": [
            "please enter number:5\n",
            "120\n"
          ]
        }
      ]
    }
  ]
}